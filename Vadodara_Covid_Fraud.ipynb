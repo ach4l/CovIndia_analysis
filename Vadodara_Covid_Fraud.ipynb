{
  "nbformat": 4,
  "nbformat_minor": 0,
  "metadata": {
    "colab": {
      "name": "VadodaraFraud.ipynb",
      "provenance": [],
      "authorship_tag": "ABX9TyOqkkvlr3HVCxp/N4u5lFwc",
      "include_colab_link": true
    },
    "kernelspec": {
      "name": "python3",
      "display_name": "Python 3"
    }
  },
  "cells": [
    {
      "cell_type": "markdown",
      "metadata": {
        "id": "view-in-github",
        "colab_type": "text"
      },
      "source": [
        "<a href=\"https://colab.research.google.com/github/ach4l/CovIndia_analysis/blob/master/Vadodara_Covid_Fraud.ipynb\" target=\"_parent\"><img src=\"https://colab.research.google.com/assets/colab-badge.svg\" alt=\"Open In Colab\"/></a>"
      ]
    },
    {
      "cell_type": "markdown",
      "metadata": {
        "id": "_MIp9t2Oh-7T",
        "colab_type": "text"
      },
      "source": [
        "# Detecting Fraud in Reporting Covid 19 Cases\n",
        "\n",
        "In this notebook, we will develop a test to figure out if the number of Covid-19 cases being reported are being manipulated. To be sure, this test will not be able to find **ALL** instances of manipulation, but it is still powerful enough to find many such instances.\n",
        "\n",
        "To illustrate the approach, I will use Vadodara, Gujarat as an example. We will then apply the test to all districts and States in India to find out who has been manipulating their data.\n",
        "\n",
        "The source for all data is https://covid19india.org who provide reliable district-level data for India."
      ]
    },
    {
      "cell_type": "code",
      "metadata": {
        "id": "1Qo4ZLmLV6Lq",
        "colab_type": "code",
        "colab": {}
      },
      "source": [
        "# Some customary Python Imports\n",
        "\n",
        "import requests        # Needs to be installed (pip install requests)\n",
        "import json\n",
        "import pandas as pd    # Needs to be installed (pip install pandas)\n",
        "import numpy           # Needs to be installed (pip install numpy)"
      ],
      "execution_count": 1,
      "outputs": []
    },
    {
      "cell_type": "code",
      "metadata": {
        "id": "vCbEv27HWOEI",
        "colab_type": "code",
        "colab": {
          "base_uri": "https://localhost:8080/",
          "height": 54
        },
        "outputId": "23de9814-3cc4-4e55-ebe3-85d109be9f99"
      },
      "source": [
        "# To get district wise daily data, we use the districts_daily API\n",
        "\n",
        "url = 'https://api.covid19india.org/districts_daily.json'\n",
        "raw_data = requests.get(url=url).json()\n",
        "print(raw_data['districtsDaily']['Gujarat'].keys())"
      ],
      "execution_count": 2,
      "outputs": [
        {
          "output_type": "stream",
          "text": [
            "dict_keys(['Ahmadabad', 'Anand', 'Aravalli', 'Banas Kantha', 'Bharuch', 'Bhavnagar', 'Botad', 'Chota Udaipur', 'Dahod', 'Gandhinagar', 'Gir Somnath', 'Jamnagar', 'Kachchh', 'Kheda', 'Mahesana', 'Mahisagar', 'Morbi', 'Narmada', 'Navsari', 'Panch Mahals', 'Patan', 'Porbandar', 'Rajkot', 'Sabar Kantha', 'Surat', 'Tapi', 'Vadodara', 'Valsad', 'Dang', 'Surendranagar', 'Unknown', 'Ahmedabad', 'Banaskantha', 'Chhota Udaipur', 'Kutch', 'Mehsana', 'Panchmahal', 'Sabarkantha', 'Devbhumi Dwarka', 'Junagadh', 'Other State', 'Amreli'])\n"
          ],
          "name": "stdout"
        }
      ]
    },
    {
      "cell_type": "code",
      "metadata": {
        "id": "HAdwDAYxWgvR",
        "colab_type": "code",
        "colab": {
          "base_uri": "https://localhost:8080/",
          "height": 54
        },
        "outputId": "3807df2d-a299-46fc-d9b2-8ebd88461b42"
      },
      "source": [
        "# We extract Vadodara daily data. Note that this data is cumulative!\n",
        "\n",
        "vadodara_data = raw_data['districtsDaily']['Gujarat']['Vadodara']\n",
        "print(vadodara_data)"
      ],
      "execution_count": 3,
      "outputs": [
        {
          "output_type": "stream",
          "text": [
            "[{'active': 199, 'confirmed': 199, 'deceased': 0, 'recovered': 0, 'date': '2020-04-21'}, {'notes': '', 'active': 190, 'confirmed': 208, 'deceased': 10, 'recovered': 8, 'date': '2020-04-22'}, {'notes': '', 'active': 154, 'confirmed': 218, 'deceased': 11, 'recovered': 53, 'date': '2020-04-23'}, {'notes': '', 'active': 159, 'confirmed': 223, 'deceased': 11, 'recovered': 53, 'date': '2020-04-24'}, {'notes': '', 'active': 162, 'confirmed': 230, 'deceased': 12, 'recovered': 56, 'date': '2020-04-25'}, {'notes': '', 'active': 166, 'confirmed': 234, 'deceased': 12, 'recovered': 56, 'date': '2020-04-26'}, {'notes': '', 'active': 171, 'confirmed': 240, 'deceased': 13, 'recovered': 56, 'date': '2020-04-27'}, {'notes': '', 'active': 184, 'confirmed': 255, 'deceased': 13, 'recovered': 58, 'date': '2020-04-28'}, {'notes': '', 'active': 167, 'confirmed': 270, 'deceased': 16, 'recovered': 87, 'date': '2020-04-29'}, {'notes': '', 'active': 185, 'confirmed': 289, 'deceased': 17, 'recovered': 87, 'date': '2020-04-30'}, {'notes': '', 'active': 185, 'confirmed': 308, 'deceased': 21, 'recovered': 102, 'date': '2020-05-01'}, {'notes': '', 'active': 159, 'confirmed': 325, 'deceased': 24, 'recovered': 142, 'date': '2020-05-02'}, {'notes': '', 'active': 179, 'confirmed': 350, 'deceased': 25, 'recovered': 146, 'date': '2020-05-03'}, {'notes': '', 'active': 211, 'confirmed': 385, 'deceased': 27, 'recovered': 147, 'date': '2020-05-04'}, {'notes': '', 'active': 217, 'confirmed': 405, 'deceased': 30, 'recovered': 158, 'date': '2020-05-05'}, {'notes': '', 'active': 226, 'confirmed': 421, 'deceased': 31, 'recovered': 164, 'date': '2020-05-06'}, {'notes': '', 'active': 218, 'confirmed': 440, 'deceased': 31, 'recovered': 191, 'date': '2020-05-07'}, {'notes': '', 'active': 236, 'confirmed': 465, 'deceased': 31, 'recovered': 198, 'date': '2020-05-08'}, {'notes': '', 'active': 212, 'confirmed': 493, 'deceased': 31, 'recovered': 250, 'date': '2020-05-09'}, {'notes': '', 'active': 196, 'confirmed': 518, 'deceased': 31, 'recovered': 291, 'date': '2020-05-10'}, {'notes': '', 'active': 218, 'confirmed': 547, 'deceased': 31, 'recovered': 298, 'date': '2020-05-11'}, {'notes': '', 'active': 231, 'confirmed': 574, 'deceased': 32, 'recovered': 311, 'date': '2020-05-12'}, {'notes': '', 'active': 205, 'confirmed': 592, 'deceased': 32, 'recovered': 355, 'date': '2020-05-13'}, {'notes': '', 'active': 210, 'confirmed': 605, 'deceased': 32, 'recovered': 363, 'date': '2020-05-14'}, {'notes': '', 'active': 217, 'confirmed': 620, 'deceased': 32, 'recovered': 371, 'date': '2020-05-15'}, {'notes': '', 'active': 223, 'confirmed': 639, 'deceased': 32, 'recovered': 384, 'date': '2020-05-16'}, {'notes': '', 'active': 240, 'confirmed': 660, 'deceased': 32, 'recovered': 388, 'date': '2020-05-17'}, {'notes': '', 'active': 215, 'confirmed': 682, 'deceased': 32, 'recovered': 435, 'date': '2020-05-18'}, {'notes': '', 'active': 217, 'confirmed': 700, 'deceased': 32, 'recovered': 451, 'date': '2020-05-19'}, {'notes': '', 'active': 231, 'confirmed': 726, 'deceased': 32, 'recovered': 463, 'date': '2020-05-20'}, {'notes': '', 'active': 245, 'confirmed': 750, 'deceased': 35, 'recovered': 470, 'date': '2020-05-21'}, {'notes': '', 'active': 261, 'confirmed': 771, 'deceased': 35, 'recovered': 475, 'date': '2020-05-22'}, {'notes': '', 'active': 281, 'confirmed': 806, 'deceased': 35, 'recovered': 490, 'date': '2020-05-23'}, {'notes': '', 'active': 304, 'confirmed': 836, 'deceased': 35, 'recovered': 497, 'date': '2020-05-24'}, {'notes': '', 'active': 309, 'confirmed': 854, 'deceased': 35, 'recovered': 510, 'date': '2020-05-25'}, {'notes': '', 'active': 331, 'confirmed': 885, 'deceased': 35, 'recovered': 519, 'date': '2020-05-26'}, {'notes': '', 'active': 348, 'confirmed': 914, 'deceased': 36, 'recovered': 530, 'date': '2020-05-27'}, {'notes': '', 'active': 378, 'confirmed': 947, 'deceased': 39, 'recovered': 530, 'date': '2020-05-28'}, {'notes': '', 'active': 394, 'confirmed': 981, 'deceased': 39, 'recovered': 548, 'date': '2020-05-29'}, {'notes': '', 'active': 393, 'confirmed': 1009, 'deceased': 39, 'recovered': 577, 'date': '2020-05-30'}, {'notes': '', 'active': 409, 'confirmed': 1043, 'deceased': 39, 'recovered': 595, 'date': '2020-05-31'}, {'notes': '', 'active': 419, 'confirmed': 1074, 'deceased': 39, 'recovered': 616, 'date': '2020-06-01'}, {'notes': '', 'active': 442, 'confirmed': 1106, 'deceased': 39, 'recovered': 625, 'date': '2020-06-02'}, {'notes': '', 'active': 430, 'confirmed': 1140, 'deceased': 42, 'recovered': 668, 'date': '2020-06-03'}, {'notes': '', 'active': 435, 'confirmed': 1179, 'deceased': 42, 'recovered': 702, 'date': '2020-06-04'}, {'notes': '', 'active': 461, 'confirmed': 1224, 'deceased': 42, 'recovered': 721, 'date': '2020-06-05'}, {'notes': '', 'active': 471, 'confirmed': 1258, 'deceased': 43, 'recovered': 744, 'date': '2020-06-06'}, {'notes': '', 'active': 481, 'confirmed': 1293, 'deceased': 43, 'recovered': 769, 'date': '2020-06-07'}, {'notes': '', 'active': 488, 'confirmed': 1328, 'deceased': 43, 'recovered': 797, 'date': '2020-06-08'}, {'notes': '', 'active': 456, 'confirmed': 1360, 'deceased': 43, 'recovered': 861, 'date': '2020-06-09'}, {'notes': '', 'active': 477, 'confirmed': 1395, 'deceased': 43, 'recovered': 875, 'date': '2020-06-10'}, {'notes': '', 'active': 491, 'confirmed': 1434, 'deceased': 43, 'recovered': 900, 'date': '2020-06-11'}, {'notes': '', 'active': 496, 'confirmed': 1471, 'deceased': 43, 'recovered': 932, 'date': '2020-06-12'}, {'notes': '', 'active': 528, 'confirmed': 1511, 'deceased': 43, 'recovered': 940, 'date': '2020-06-13'}, {'notes': '', 'active': 504, 'confirmed': 1553, 'deceased': 43, 'recovered': 1006, 'date': '2020-06-14'}, {'notes': '', 'active': 540, 'confirmed': 1597, 'deceased': 43, 'recovered': 1014, 'date': '2020-06-15'}, {'notes': '', 'active': 517, 'confirmed': 1638, 'deceased': 45, 'recovered': 1076, 'date': '2020-06-16'}, {'notes': '', 'active': 535, 'confirmed': 1682, 'deceased': 47, 'recovered': 1100, 'date': '2020-06-17'}, {'notes': '', 'active': 564, 'confirmed': 1725, 'deceased': 47, 'recovered': 1114, 'date': '2020-06-18'}, {'notes': '', 'active': 588, 'confirmed': 1770, 'deceased': 47, 'recovered': 1135, 'date': '2020-06-19'}, {'notes': '', 'active': 611, 'confirmed': 1813, 'deceased': 47, 'recovered': 1155, 'date': '2020-06-20'}, {'notes': '', 'active': 612, 'confirmed': 1854, 'deceased': 47, 'recovered': 1195, 'date': '2020-06-21'}, {'notes': '', 'active': 605, 'confirmed': 1898, 'deceased': 47, 'recovered': 1246, 'date': '2020-06-22'}, {'notes': '', 'active': 631, 'confirmed': 1940, 'deceased': 47, 'recovered': 1262, 'date': '2020-06-23'}, {'notes': '', 'active': 628, 'confirmed': 1985, 'deceased': 47, 'recovered': 1310, 'date': '2020-06-24'}, {'notes': '', 'active': 620, 'confirmed': 2029, 'deceased': 47, 'recovered': 1362, 'date': '2020-06-25'}, {'notes': '', 'active': 564, 'confirmed': 2074, 'deceased': 47, 'recovered': 1463, 'date': '2020-06-26'}, {'notes': '', 'active': 601, 'confirmed': 2121, 'deceased': 47, 'recovered': 1473, 'date': '2020-06-27'}, {'notes': '', 'active': 628, 'confirmed': 2165, 'deceased': 47, 'recovered': 1490, 'date': '2020-06-28'}, {'notes': '', 'active': 628, 'confirmed': 2165, 'deceased': 47, 'recovered': 1490, 'date': '2020-06-29'}]\n"
          ],
          "name": "stdout"
        }
      ]
    },
    {
      "cell_type": "code",
      "metadata": {
        "id": "lUalA5VUWrzV",
        "colab_type": "code",
        "colab": {
          "base_uri": "https://localhost:8080/",
          "height": 54
        },
        "outputId": "c6143064-02fb-4b7c-d969-6925bade0550"
      },
      "source": [
        "# We want to extract only the confirmed cases for our analysis\n",
        "\n",
        "cumulative_cases = []\n",
        "for date in vadodara_data:\n",
        "  that_day = date['confirmed']\n",
        "  cumulative_cases.append(that_day)\n",
        "print(cumulative_cases)"
      ],
      "execution_count": 4,
      "outputs": [
        {
          "output_type": "stream",
          "text": [
            "[199, 208, 218, 223, 230, 234, 240, 255, 270, 289, 308, 325, 350, 385, 405, 421, 440, 465, 493, 518, 547, 574, 592, 605, 620, 639, 660, 682, 700, 726, 750, 771, 806, 836, 854, 885, 914, 947, 981, 1009, 1043, 1074, 1106, 1140, 1179, 1224, 1258, 1293, 1328, 1360, 1395, 1434, 1471, 1511, 1553, 1597, 1638, 1682, 1725, 1770, 1813, 1854, 1898, 1940, 1985, 2029, 2074, 2121, 2165, 2165]\n"
          ],
          "name": "stdout"
        }
      ]
    },
    {
      "cell_type": "code",
      "metadata": {
        "id": "Vfj4QlhXXyuh",
        "colab_type": "code",
        "colab": {
          "base_uri": "https://localhost:8080/",
          "height": 54
        },
        "outputId": "2e57996a-8d47-471b-b976-17bc09a0c99b"
      },
      "source": [
        "# We are interested in NEW daily cases for our analysis\n",
        "\n",
        "daily_cases = [j-i for i, j in zip(cumulative_cases[:-1], cumulative_cases[1:])]\n",
        "print(daily_cases)"
      ],
      "execution_count": 5,
      "outputs": [
        {
          "output_type": "stream",
          "text": [
            "[9, 10, 5, 7, 4, 6, 15, 15, 19, 19, 17, 25, 35, 20, 16, 19, 25, 28, 25, 29, 27, 18, 13, 15, 19, 21, 22, 18, 26, 24, 21, 35, 30, 18, 31, 29, 33, 34, 28, 34, 31, 32, 34, 39, 45, 34, 35, 35, 32, 35, 39, 37, 40, 42, 44, 41, 44, 43, 45, 43, 41, 44, 42, 45, 44, 45, 47, 44, 0]\n"
          ],
          "name": "stdout"
        }
      ]
    },
    {
      "cell_type": "code",
      "metadata": {
        "id": "1Wgx9GKMY6J6",
        "colab_type": "code",
        "colab": {
          "base_uri": "https://localhost:8080/",
          "height": 34
        },
        "outputId": "6da0bd82-1802-4c5d-8cee-a48ed4692a8d"
      },
      "source": [
        "# Lets look at only last 30 days numbers for now\n",
        "\n",
        "last_30_days = daily_cases[-31:-1]\n",
        "print(last_30_days)"
      ],
      "execution_count": 6,
      "outputs": [
        {
          "output_type": "stream",
          "text": [
            "[28, 34, 31, 32, 34, 39, 45, 34, 35, 35, 32, 35, 39, 37, 40, 42, 44, 41, 44, 43, 45, 43, 41, 44, 42, 45, 44, 45, 47, 44]\n"
          ],
          "name": "stdout"
        }
      ]
    },
    {
      "cell_type": "markdown",
      "metadata": {
        "id": "W3e091zQk9jP",
        "colab_type": "text"
      },
      "source": [
        "# Analysis\n",
        "\n",
        "The basic idea is this: Imagine tossing coins for 10 times. If it is a fair coin, you would expect it to (mostly) return around 5 heads and 5 tails. But when you actually do the experiment, you see that it doesnt give 5 heads **all the time**. Sometimes it might give 4 heads and sometimes 6. It might also give 3 or 7 heads in some batches.\n",
        "\n",
        "One might wonder, how many times will it give 5 heads or 4 heads 7 heads? The answer to this question is in the following graph.\n",
        "\n",
        "<img src=\"coin_binomial.PNG\">\n",
        "\n",
        "This is what is known as a **Binomial Distribution**. As you can see, unsurprisingly, 5 heads is the most likely outcome. But 4 heads or 6 heads are not so unlikely with a healthy 20% chance each!\n",
        "\n",
        "Now imagine you had asked your friend to do this experiment (of counting how many heads in 10 tosses) a 100 times. Later you asked him to report what he found. Your friend was too lazy to actually do such a stupid experiment. But he knew 5 heads was the most likely outcome. So he told you most of the times it was 5 heads. When pressed more he said 80% of the times it was 5 heads, and sometimes 4 heads and sometimes 6 heads.\n",
        "\n",
        "But you knew that this was too good to be true! he should have gotten4 heads and 6 heads more number of times and he was **clearly lying!** We are essentially going to find out the lazy lies being told to us by various agencies using a similar reasoning.\n",
        "\n",
        "Now as you see with the Vadodara data, the number of covid positive cases being reported in the last 30 days is remarkably stable. For argument's sake, lets assume there are 500 tests done in Vadodara everyday, and about 10 percent of them turn out to be positive. How many positive cases we should expect everyday? Well, this is again the same problem as coin tosses, so let us look at Binomial Distribution for this problem.\n",
        "\n",
        "<img src=\"covid_binomial.PNG\">\n",
        "\n",
        "Unsurprisingly, 50 cases is the most likely outcome. However, there is a good amount of spread, i.e. it is decently probable that 45 cases or 55 cases might be reported on a given day. But if you look at Vadodara data, it is remarkably stable. This is the equivalent of your lazy friend reporting 5 heads most of the times. It is too good to be true!\n",
        "\n",
        "In the following analysis, we will use standard deviation (a way of quantifying the spread in the data) to find out **exactly** what is the probability of such a thing happening. In other words, how certain are we that the authorities are lying!"
      ]
    },
    {
      "cell_type": "code",
      "metadata": {
        "id": "ON-VTujJZgUq",
        "colab_type": "code",
        "colab": {
          "base_uri": "https://localhost:8080/",
          "height": 538
        },
        "outputId": "c625d724-bad5-46af-d75d-f49e71a87713"
      },
      "source": [
        "# Finding the standard deviation for all 5 consecutive days\n",
        "\n",
        "window_size = 5 # You can play around with this parameter to see how the results are affected\n",
        "\n",
        "last_30_days_pd = pd.Series(data=last_30_days)\n",
        "rolling_std = last_30_days_pd.rolling(window=window_size).std()\n",
        "print(rolling_std)"
      ],
      "execution_count": 7,
      "outputs": [
        {
          "output_type": "stream",
          "text": [
            "0          NaN\n",
            "1          NaN\n",
            "2          NaN\n",
            "3          NaN\n",
            "4     2.489980\n",
            "5     3.082207\n",
            "6     5.805170\n",
            "7     5.263079\n",
            "8     4.722288\n",
            "9     4.560702\n",
            "10    5.069517\n",
            "11    1.303840\n",
            "12    2.489980\n",
            "13    2.607681\n",
            "14    3.209361\n",
            "15    2.701851\n",
            "16    2.701851\n",
            "17    2.588436\n",
            "18    1.788854\n",
            "19    1.303840\n",
            "20    1.516575\n",
            "21    1.483240\n",
            "22    1.483240\n",
            "23    1.483240\n",
            "24    1.581139\n",
            "25    1.581139\n",
            "26    1.643168\n",
            "27    1.224745\n",
            "28    1.816590\n",
            "29    1.224745\n",
            "dtype: float64\n"
          ],
          "name": "stdout"
        }
      ]
    },
    {
      "cell_type": "markdown",
      "metadata": {
        "id": "M1zmnV1mEjEq",
        "colab_type": "text"
      },
      "source": [
        "What are the chances of the standard deviation being so low? One easy way to find out is to generate many random set of 5 values from the binomial distribution and counting how many sets of 5 values actually have a spread smaller than what is reported by the authorities.\n",
        "\n",
        "**NOTE - we are assuming that the number of tests and test positive rate remains fairly constant over a period of 5 days**\n",
        "\n",
        "If those values change drastically over the period of 5 days, the spread in the data should be even more! This is because the mean, which is the most expected value, itself will change drastically if number of tests or positivity rate changes in those 5 days. The mean, for clarity, is the total number of tests * proportion of tests which are positive."
      ]
    },
    {
      "cell_type": "code",
      "metadata": {
        "id": "32dvJdDnaoYI",
        "colab_type": "code",
        "colab": {}
      },
      "source": [
        "# Looking at only last 5 days. Average is 45 and assuming 10% positive rate\n",
        "\n",
        "random_binomial = numpy.random.binomial(n=450, p=0.1, size=(10000,window_size))\n"
      ],
      "execution_count": 8,
      "outputs": []
    },
    {
      "cell_type": "code",
      "metadata": {
        "id": "Awi58QFrlb6B",
        "colab_type": "code",
        "colab": {
          "base_uri": "https://localhost:8080/",
          "height": 34
        },
        "outputId": "b305f7e8-b423-41b5-a2f3-6d0755045537"
      },
      "source": [
        "# Calculating the standard deviation for each set of 5 values\n",
        "std_random = numpy.std(random_binomial, axis=1)\n",
        "\n",
        "# Finding the number of values lesser than the standard deviation reported by authorities (Only Last 5 days)\n",
        "lesser_values = std_random < rolling_std[(len(rolling_std)-1)]\n",
        "number_of_lesser_values = len(std_random[lesser_values])\n",
        "print(\"Only \" + str(number_of_lesser_values/100) + \" % of instances where standard deviation was less than what was reported by authorities\")\n"
      ],
      "execution_count": 17,
      "outputs": [
        {
          "output_type": "stream",
          "text": [
            "Only 0.37 % of instances where standard deviation was less than what was reported by authorities\n"
          ],
          "name": "stdout"
        }
      ]
    },
    {
      "cell_type": "markdown",
      "metadata": {
        "id": "xKD4z37gSf4D",
        "colab_type": "text"
      },
      "source": [
        "## Conclusion for Vadodara\n",
        "\n",
        "There is only **0.37 % chance** of the cases being reported to have such a less spread. This is just for the last 5 days! This trend has been true for about 10 such 5-day windows in the past two weeks. This makes it highly improbable, and we can be certain that the authorities are just making up those numbers!"
      ]
    },
    {
      "cell_type": "markdown",
      "metadata": {
        "id": "8i_YdsblTdet",
        "colab_type": "text"
      },
      "source": [
        "# Finding all such cities and states\n",
        "\n",
        "I hope this gives you a simple way to find if your city, state or country might be fudging their data. Please let me know **achal.agrawal.1987[at]gmail.com** if you find something interesting or have some doubts.\n",
        "\n"
      ]
    }
  ]
}
