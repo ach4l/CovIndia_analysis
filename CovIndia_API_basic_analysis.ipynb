{
 "cells": [
  {
   "cell_type": "markdown",
   "metadata": {},
   "source": [
    "# Using CovIndia API \n",
    "\n",
    "In this notebook, we will show\n",
    "- How to use the CovIndia API, to generate CSVs (which can be opened in Microsoft Excel)\n",
    "- Do some basic analysis like day-wise state and district numbers.\n",
    "- A small example of plotting the infected numbers for a given state, and doing some curve fitting to smoothen the graph. \n",
    "- An example of the kind of analysis possible with our data.\n",
    "\n",
    "We hope the data science and research community will take this analysis further."
   ]
  },
  {
   "cell_type": "markdown",
   "metadata": {},
   "source": [
    "#### Using CovIndia API to generate CSV containing the entire dataset"
   ]
  },
  {
   "cell_type": "code",
   "execution_count": 2,
   "metadata": {},
   "outputs": [],
   "source": [
    "import requests        # Needs to be installed (pip install requests)\n",
    "import json\n",
    "import pandas as pd    # Needs to be installed (pip install pandas)"
   ]
  },
  {
   "cell_type": "code",
   "execution_count": 3,
   "metadata": {},
   "outputs": [],
   "source": [
    "url = 'https://v1.api.covindia.com/covindia-raw-data'\n",
    "raw_data = requests.get(url=url).json()\n",
    "# Next line is just to change the type of keys from string to int\n",
    "# This is required for making the dataframe automatically\n",
    "raw_data = {int(old_key): val for old_key, val in raw_data.items()}\n",
    "#print(raw_data)"
   ]
  },
  {
   "cell_type": "code",
   "execution_count": 4,
   "metadata": {},
   "outputs": [
    {
     "data": {
      "text/html": [
       "<div>\n",
       "<style scoped>\n",
       "    .dataframe tbody tr th:only-of-type {\n",
       "        vertical-align: middle;\n",
       "    }\n",
       "\n",
       "    .dataframe tbody tr th {\n",
       "        vertical-align: top;\n",
       "    }\n",
       "\n",
       "    .dataframe thead th {\n",
       "        text-align: right;\n",
       "    }\n",
       "</style>\n",
       "<table border=\"1\" class=\"dataframe\">\n",
       "  <thead>\n",
       "    <tr style=\"text-align: right;\">\n",
       "      <th></th>\n",
       "      <th>date</th>\n",
       "      <th>time</th>\n",
       "      <th>district</th>\n",
       "      <th>state</th>\n",
       "      <th>infected</th>\n",
       "      <th>death</th>\n",
       "      <th>source</th>\n",
       "    </tr>\n",
       "  </thead>\n",
       "  <tbody>\n",
       "    <tr>\n",
       "      <th>0</th>\n",
       "      <td>2020-04-07</td>\n",
       "      <td>22:17</td>\n",
       "      <td>Rangareddi</td>\n",
       "      <td>Telangana</td>\n",
       "      <td>5</td>\n",
       "      <td>0</td>\n",
       "      <td>https://pbs.twimg.com/media/EVAyEo6UYAAn0Iz.jpg</td>\n",
       "    </tr>\n",
       "    <tr>\n",
       "      <th>1</th>\n",
       "      <td>2020-04-07</td>\n",
       "      <td>22:17</td>\n",
       "      <td>Khammam</td>\n",
       "      <td>Telangana</td>\n",
       "      <td>3</td>\n",
       "      <td>0</td>\n",
       "      <td>https://pbs.twimg.com/media/EVAyEo6UYAAn0Iz.jpg</td>\n",
       "    </tr>\n",
       "    <tr>\n",
       "      <th>2</th>\n",
       "      <td>2020-04-07</td>\n",
       "      <td>22:17</td>\n",
       "      <td>Nalgonda</td>\n",
       "      <td>Telangana</td>\n",
       "      <td>21</td>\n",
       "      <td>0</td>\n",
       "      <td>https://pbs.twimg.com/media/EVAyEo6UYAAn0Iz.jpg</td>\n",
       "    </tr>\n",
       "    <tr>\n",
       "      <th>3</th>\n",
       "      <td>2020-04-07</td>\n",
       "      <td>22:17</td>\n",
       "      <td>Nizamabad</td>\n",
       "      <td>Telangana</td>\n",
       "      <td>7</td>\n",
       "      <td>0</td>\n",
       "      <td>https://pbs.twimg.com/media/EVAyEo6UYAAn0Iz.jpg</td>\n",
       "    </tr>\n",
       "    <tr>\n",
       "      <th>4</th>\n",
       "      <td>2020-04-07</td>\n",
       "      <td>22:17</td>\n",
       "      <td>Adilabad</td>\n",
       "      <td>Telangana</td>\n",
       "      <td>11</td>\n",
       "      <td>0</td>\n",
       "      <td>https://pbs.twimg.com/media/EVAyEo6UYAAn0Iz.jpg</td>\n",
       "    </tr>\n",
       "  </tbody>\n",
       "</table>\n",
       "</div>"
      ],
      "text/plain": [
       "        date   time    district      state  infected  death  \\\n",
       "0 2020-04-07  22:17  Rangareddi  Telangana         5      0   \n",
       "1 2020-04-07  22:17     Khammam  Telangana         3      0   \n",
       "2 2020-04-07  22:17    Nalgonda  Telangana        21      0   \n",
       "3 2020-04-07  22:17   Nizamabad  Telangana         7      0   \n",
       "4 2020-04-07  22:17    Adilabad  Telangana        11      0   \n",
       "\n",
       "                                            source  \n",
       "0  https://pbs.twimg.com/media/EVAyEo6UYAAn0Iz.jpg  \n",
       "1  https://pbs.twimg.com/media/EVAyEo6UYAAn0Iz.jpg  \n",
       "2  https://pbs.twimg.com/media/EVAyEo6UYAAn0Iz.jpg  \n",
       "3  https://pbs.twimg.com/media/EVAyEo6UYAAn0Iz.jpg  \n",
       "4  https://pbs.twimg.com/media/EVAyEo6UYAAn0Iz.jpg  "
      ]
     },
     "execution_count": 4,
     "metadata": {},
     "output_type": "execute_result"
    }
   ],
   "source": [
    "raw_data_df = pd.DataFrame.from_dict(raw_data, orient='index')\n",
    "raw_data_df  = raw_data_df [['date','time','district','state','infected','death','source']]\n",
    "raw_data_df[\"date\"] = pd.to_datetime(raw_data_df[\"date\"],dayfirst=True)\n",
    "raw_data_df.to_csv('raw_data.csv', index = False)\n",
    "raw_data_df.head()"
   ]
  },
  {
   "cell_type": "markdown",
   "metadata": {},
   "source": [
    "#### Performing some basic aggregations"
   ]
  },
  {
   "cell_type": "code",
   "execution_count": 5,
   "metadata": {},
   "outputs": [
    {
     "name": "stdout",
     "output_type": "stream",
     "text": [
      "Total Infected : 5152\n",
      "Total Death : 168\n"
     ]
    }
   ],
   "source": [
    "# Finding the total infected and death\n",
    "print('Total Infected : ' + str(raw_data_df['infected'].sum()))\n",
    "print('Total Death : ' + str(raw_data_df['death'].sum()))"
   ]
  },
  {
   "cell_type": "code",
   "execution_count": 6,
   "metadata": {},
   "outputs": [
    {
     "data": {
      "text/html": [
       "<div>\n",
       "<style scoped>\n",
       "    .dataframe tbody tr th:only-of-type {\n",
       "        vertical-align: middle;\n",
       "    }\n",
       "\n",
       "    .dataframe tbody tr th {\n",
       "        vertical-align: top;\n",
       "    }\n",
       "\n",
       "    .dataframe thead th {\n",
       "        text-align: right;\n",
       "    }\n",
       "</style>\n",
       "<table border=\"1\" class=\"dataframe\">\n",
       "  <thead>\n",
       "    <tr style=\"text-align: right;\">\n",
       "      <th></th>\n",
       "      <th>date</th>\n",
       "      <th>district</th>\n",
       "      <th>infected</th>\n",
       "      <th>death</th>\n",
       "    </tr>\n",
       "  </thead>\n",
       "  <tbody>\n",
       "    <tr>\n",
       "      <th>0</th>\n",
       "      <td>2020-02-03</td>\n",
       "      <td>Kannur</td>\n",
       "      <td>1</td>\n",
       "      <td>0</td>\n",
       "    </tr>\n",
       "    <tr>\n",
       "      <th>1</th>\n",
       "      <td>2020-03-02</td>\n",
       "      <td>Delhi</td>\n",
       "      <td>7</td>\n",
       "      <td>0</td>\n",
       "    </tr>\n",
       "    <tr>\n",
       "      <th>2</th>\n",
       "      <td>2020-03-02</td>\n",
       "      <td>Hyderabad</td>\n",
       "      <td>5</td>\n",
       "      <td>0</td>\n",
       "    </tr>\n",
       "    <tr>\n",
       "      <th>3</th>\n",
       "      <td>2020-03-04</td>\n",
       "      <td>Gurgaon</td>\n",
       "      <td>14</td>\n",
       "      <td>0</td>\n",
       "    </tr>\n",
       "    <tr>\n",
       "      <th>4</th>\n",
       "      <td>2020-03-04</td>\n",
       "      <td>Jaipur</td>\n",
       "      <td>1</td>\n",
       "      <td>0</td>\n",
       "    </tr>\n",
       "  </tbody>\n",
       "</table>\n",
       "</div>"
      ],
      "text/plain": [
       "        date   district  infected  death\n",
       "0 2020-02-03     Kannur         1      0\n",
       "1 2020-03-02      Delhi         7      0\n",
       "2 2020-03-02  Hyderabad         5      0\n",
       "3 2020-03-04    Gurgaon        14      0\n",
       "4 2020-03-04     Jaipur         1      0"
      ]
     },
     "execution_count": 6,
     "metadata": {},
     "output_type": "execute_result"
    }
   ],
   "source": [
    "# Aggregating the data daywise and districtwise\n",
    "dist_day_df = raw_data_df.groupby(['date', 'district'], as_index=False)['infected','death'].sum()\n",
    "dist_day_df = dist_day_df.sort_values('date', ascending = True)\n",
    "dist_day_df.head()"
   ]
  },
  {
   "cell_type": "code",
   "execution_count": 7,
   "metadata": {},
   "outputs": [
    {
     "data": {
      "text/html": [
       "<div>\n",
       "<style scoped>\n",
       "    .dataframe tbody tr th:only-of-type {\n",
       "        vertical-align: middle;\n",
       "    }\n",
       "\n",
       "    .dataframe tbody tr th {\n",
       "        vertical-align: top;\n",
       "    }\n",
       "\n",
       "    .dataframe thead th {\n",
       "        text-align: right;\n",
       "    }\n",
       "</style>\n",
       "<table border=\"1\" class=\"dataframe\">\n",
       "  <thead>\n",
       "    <tr style=\"text-align: right;\">\n",
       "      <th></th>\n",
       "      <th>date</th>\n",
       "      <th>state</th>\n",
       "      <th>infected</th>\n",
       "      <th>death</th>\n",
       "    </tr>\n",
       "  </thead>\n",
       "  <tbody>\n",
       "    <tr>\n",
       "      <th>0</th>\n",
       "      <td>2020-02-03</td>\n",
       "      <td>Kerala</td>\n",
       "      <td>1</td>\n",
       "      <td>0</td>\n",
       "    </tr>\n",
       "    <tr>\n",
       "      <th>1</th>\n",
       "      <td>2020-03-02</td>\n",
       "      <td>Delhi</td>\n",
       "      <td>7</td>\n",
       "      <td>0</td>\n",
       "    </tr>\n",
       "    <tr>\n",
       "      <th>2</th>\n",
       "      <td>2020-03-02</td>\n",
       "      <td>Telangana</td>\n",
       "      <td>5</td>\n",
       "      <td>0</td>\n",
       "    </tr>\n",
       "    <tr>\n",
       "      <th>3</th>\n",
       "      <td>2020-03-04</td>\n",
       "      <td>Haryana</td>\n",
       "      <td>14</td>\n",
       "      <td>0</td>\n",
       "    </tr>\n",
       "    <tr>\n",
       "      <th>4</th>\n",
       "      <td>2020-03-04</td>\n",
       "      <td>Rajasthan</td>\n",
       "      <td>1</td>\n",
       "      <td>0</td>\n",
       "    </tr>\n",
       "  </tbody>\n",
       "</table>\n",
       "</div>"
      ],
      "text/plain": [
       "        date      state  infected  death\n",
       "0 2020-02-03     Kerala         1      0\n",
       "1 2020-03-02      Delhi         7      0\n",
       "2 2020-03-02  Telangana         5      0\n",
       "3 2020-03-04    Haryana        14      0\n",
       "4 2020-03-04  Rajasthan         1      0"
      ]
     },
     "execution_count": 7,
     "metadata": {},
     "output_type": "execute_result"
    }
   ],
   "source": [
    "# Aggregating the data daywise and statewise\n",
    "state_day_df = raw_data_df.groupby(['date', 'state'], as_index=False)['infected','death'].sum()\n",
    "state_day_df.head()"
   ]
  },
  {
   "cell_type": "markdown",
   "metadata": {},
   "source": [
    "#### Plot the data for a given state or district"
   ]
  },
  {
   "cell_type": "code",
   "execution_count": 9,
   "metadata": {},
   "outputs": [
    {
     "data": {
      "text/plain": [
       "Text(0.5, 1.0, 'Infected numbers for Maharashtra')"
      ]
     },
     "execution_count": 9,
     "metadata": {},
     "output_type": "execute_result"
    },
    {
     "data": {
      "image/png": "[encoded data removed]",
      "text/plain": [
       "<Figure size 432x288 with 1 Axes>"
      ]
     },
     "metadata": {
      "needs_background": "light"
     },
     "output_type": "display_data"
    }
   ],
   "source": [
    "# Plotting infected numbers for a particular state\n",
    "\n",
    "%matplotlib inline\n",
    "from matplotlib import pyplot as plt\n",
    "maharashtra_df = state_day_df[state_day_df['state']=='Maharashtra']\n",
    "#maharashtra_df  = maharashtra_df.sort_values('date', ascending=True)\n",
    "plt.plot(maharashtra_df['date'], maharashtra_df['infected'])\n",
    "plt.xticks(rotation='vertical')\n",
    "plt.title('Infected numbers for Maharashtra')"
   ]
  },
  {
   "cell_type": "markdown",
   "metadata": {},
   "source": [
    "As we can see, the graph is not very smooth. This is simply because of the testing as more tests are happening every alternate day. This has been observed at the India level. We can smoothen out these fluctuations to get a slightly better picture in terms of data analysis."
   ]
  },
  {
   "cell_type": "code",
   "execution_count": 18,
   "metadata": {},
   "outputs": [
    {
     "data": {
      "image/png": "[encoded data removed]",
      "text/plain": [
       "<Figure size 432x288 with 1 Axes>"
      ]
     },
     "metadata": {
      "needs_background": "light"
     },
     "output_type": "display_data"
    }
   ],
   "source": [
    "from scipy.ndimage.filters import gaussian_filter1d\n",
    "import numpy as np\n",
    "\n",
    "ysmoothed = gaussian_filter1d(np.array(maharashtra_df['infected']), sigma=1.5)\n",
    "plt.plot(np.array(maharashtra_df['date']), ysmoothed, color='orange')\n",
    "plt.plot(maharashtra_df['date'], maharashtra_df['infected'])\n",
    "plt.xticks(rotation='vertical')\n",
    "plt.show()"
   ]
  },
  {
   "cell_type": "markdown",
   "metadata": {},
   "source": [
    "#### Further Analysis\n",
    "\n",
    "The most promising analysis would be based on weather as this data has district level accuracy. We did some preliminary analysis and found the following interesting, but as yet unconclusive results:\n",
    "\n",
    "<img src=\"delhi_trend.JPG\">\n",
    "\n",
    "Here we see a slight negative trend in the percentage increase in new cases as temperature increases. To be sure, each point here corresponds to a particular day in delhi, and the temperature is taken to be the temperature 5 days earlier as Covid-19 requires atleast that much time to be detected. We know that actually it could be anywhere between 5 - 14 days, but taking an average over such a large period will hide any effects due to temperature, as tll the averages will be virtually the same.\n",
    "\n",
    "This reconfirms the intuition that heat is bad for the spread of Virus and gives some hope in the case of countries like India. However, evn then, the effect of temperature is not as big as previously expected. If one naively extrapolates this trend, the percentage increase goes to zero only at 65 degrees centigrade. We will die of heat before that! \n",
    "\n",
    "You might say, we are cherry-picking and giving people false hope. While we agree that this is barely enough data to throw caution to the wind, interestingly even Mumbai data shows a similar picture.\n",
    "\n",
    "<img src=\"mumbai_trend.JPG\">\n",
    "\n",
    "One could look at similar trends when it comes to humidity or Atmospheric pressure. Population density could also play a key role in determining the speed of the spread. An analysis using the world cities all on one graph might give us enough data points to have a mor conclusive  A lot of deeper analysis can be done based on our district-wise data. \n",
    "\n",
    "We hope that this notebook will serve you as a base for further exploration. If you do find interesting results, *please share them with us*. Also, we would love if you cite our work in case you publish research articles or reports."
   ]
  },
  {
   "cell_type": "code",
   "execution_count": null,
   "metadata": {},
   "outputs": [],
   "source": []
  }
 ],
 "metadata": {
  "kernelspec": {
   "display_name": "Python 3",
   "language": "python",
   "name": "python3"
  },
  "language_info": {
   "codemirror_mode": {
    "name": "ipython",
    "version": 3
   },
   "file_extension": ".py",
   "mimetype": "text/x-python",
   "name": "python",
   "nbconvert_exporter": "python",
   "pygments_lexer": "ipython3",
   "version": "3.5.6"
  }
 },
 "nbformat": 4,
 "nbformat_minor": 2
}
